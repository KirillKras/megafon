{
 "cells": [
  {
   "cell_type": "code",
   "execution_count": 15,
   "metadata": {
    "collapsed": true
   },
   "outputs": [],
   "source": [
    "import pandas as pd\n",
    "import numpy as np\n",
    "\n",
    "from scipy.stats import boxcox, probplot\n",
    "%matplotlib inline\n",
    "import matplotlib.pyplot as plt\n",
    "\n",
    "from sklearn.model_selection import train_test_split\n",
    "from sklearn.preprocessing import StandardScaler\n",
    "from sklearn.metrics import mean_squared_error\n",
    "from sklearn.linear_model import LinearRegression, Lasso, Ridge, LassoCV, RidgeCV\n",
    "\n",
    "import seaborn as sns"
   ]
  },
  {
   "cell_type": "code",
   "execution_count": 2,
   "outputs": [
    {
     "data": {
      "text/plain": "           address  duration_minutes  feat_1  feat_2  \\\n0  8811aa602dfffff          5.092667     0.0    25.0   \n1  8811aa45d9fffff          6.037037     0.0    63.0   \n2  881181a235fffff          4.722727     0.0    11.0   \n3  8811aa722bfffff          5.868982     0.0    36.0   \n4  8811aa714dfffff          2.937719     0.0    19.0   \n\n                                            geometry poly_side  atm  bank  \\\n0  POLYGON ((37.75103240708841 55.80603592669851,...     poly3  1.0   0.0   \n1  POLYGON ((37.40263832553934 55.71842073952227,...     poly0  5.0   3.0   \n2  POLYGON ((37.74271427608124 55.43691297888912,...     poly1  0.0   0.0   \n3  POLYGON ((37.42241082476207 55.85767681439805,...     poly2  2.0   2.0   \n4  POLYGON ((37.45469517717559 55.7843306893976, ...     poly2  1.0   0.0   \n\n   bus_station  bus_stop  cafe  device_charging_station  office  \\\n0          0.0       8.0   1.0                      0.0     0.0   \n1          0.0       5.0   2.0                      0.0     0.0   \n2          0.0       1.0   1.0                      0.0     0.0   \n3          0.0      12.0   2.0                      0.0     0.0   \n4          0.0       9.0   1.0                      0.0     0.0   \n\n   public_service  restaurant  shelter  station  traffic_signals  waste_basket  \n0             0.0         1.0      0.0      0.0              0.0           0.0  \n1             0.0         2.0      0.0      0.0              0.0           0.0  \n2             0.0         0.0      0.0      0.0              0.0           0.0  \n3             0.0         0.0      0.0      0.0              0.0           0.0  \n4             0.0         2.0      0.0      0.0              0.0           0.0  ",
      "text/html": "<div>\n<style scoped>\n    .dataframe tbody tr th:only-of-type {\n        vertical-align: middle;\n    }\n\n    .dataframe tbody tr th {\n        vertical-align: top;\n    }\n\n    .dataframe thead th {\n        text-align: right;\n    }\n</style>\n<table border=\"1\" class=\"dataframe\">\n  <thead>\n    <tr style=\"text-align: right;\">\n      <th></th>\n      <th>address</th>\n      <th>duration_minutes</th>\n      <th>feat_1</th>\n      <th>feat_2</th>\n      <th>geometry</th>\n      <th>poly_side</th>\n      <th>atm</th>\n      <th>bank</th>\n      <th>bus_station</th>\n      <th>bus_stop</th>\n      <th>cafe</th>\n      <th>device_charging_station</th>\n      <th>office</th>\n      <th>public_service</th>\n      <th>restaurant</th>\n      <th>shelter</th>\n      <th>station</th>\n      <th>traffic_signals</th>\n      <th>waste_basket</th>\n    </tr>\n  </thead>\n  <tbody>\n    <tr>\n      <th>0</th>\n      <td>8811aa602dfffff</td>\n      <td>5.092667</td>\n      <td>0.0</td>\n      <td>25.0</td>\n      <td>POLYGON ((37.75103240708841 55.80603592669851,...</td>\n      <td>poly3</td>\n      <td>1.0</td>\n      <td>0.0</td>\n      <td>0.0</td>\n      <td>8.0</td>\n      <td>1.0</td>\n      <td>0.0</td>\n      <td>0.0</td>\n      <td>0.0</td>\n      <td>1.0</td>\n      <td>0.0</td>\n      <td>0.0</td>\n      <td>0.0</td>\n      <td>0.0</td>\n    </tr>\n    <tr>\n      <th>1</th>\n      <td>8811aa45d9fffff</td>\n      <td>6.037037</td>\n      <td>0.0</td>\n      <td>63.0</td>\n      <td>POLYGON ((37.40263832553934 55.71842073952227,...</td>\n      <td>poly0</td>\n      <td>5.0</td>\n      <td>3.0</td>\n      <td>0.0</td>\n      <td>5.0</td>\n      <td>2.0</td>\n      <td>0.0</td>\n      <td>0.0</td>\n      <td>0.0</td>\n      <td>2.0</td>\n      <td>0.0</td>\n      <td>0.0</td>\n      <td>0.0</td>\n      <td>0.0</td>\n    </tr>\n    <tr>\n      <th>2</th>\n      <td>881181a235fffff</td>\n      <td>4.722727</td>\n      <td>0.0</td>\n      <td>11.0</td>\n      <td>POLYGON ((37.74271427608124 55.43691297888912,...</td>\n      <td>poly1</td>\n      <td>0.0</td>\n      <td>0.0</td>\n      <td>0.0</td>\n      <td>1.0</td>\n      <td>1.0</td>\n      <td>0.0</td>\n      <td>0.0</td>\n      <td>0.0</td>\n      <td>0.0</td>\n      <td>0.0</td>\n      <td>0.0</td>\n      <td>0.0</td>\n      <td>0.0</td>\n    </tr>\n    <tr>\n      <th>3</th>\n      <td>8811aa722bfffff</td>\n      <td>5.868982</td>\n      <td>0.0</td>\n      <td>36.0</td>\n      <td>POLYGON ((37.42241082476207 55.85767681439805,...</td>\n      <td>poly2</td>\n      <td>2.0</td>\n      <td>2.0</td>\n      <td>0.0</td>\n      <td>12.0</td>\n      <td>2.0</td>\n      <td>0.0</td>\n      <td>0.0</td>\n      <td>0.0</td>\n      <td>0.0</td>\n      <td>0.0</td>\n      <td>0.0</td>\n      <td>0.0</td>\n      <td>0.0</td>\n    </tr>\n    <tr>\n      <th>4</th>\n      <td>8811aa714dfffff</td>\n      <td>2.937719</td>\n      <td>0.0</td>\n      <td>19.0</td>\n      <td>POLYGON ((37.45469517717559 55.7843306893976, ...</td>\n      <td>poly2</td>\n      <td>1.0</td>\n      <td>0.0</td>\n      <td>0.0</td>\n      <td>9.0</td>\n      <td>1.0</td>\n      <td>0.0</td>\n      <td>0.0</td>\n      <td>0.0</td>\n      <td>2.0</td>\n      <td>0.0</td>\n      <td>0.0</td>\n      <td>0.0</td>\n      <td>0.0</td>\n    </tr>\n  </tbody>\n</table>\n</div>"
     },
     "execution_count": 2,
     "metadata": {},
     "output_type": "execute_result"
    }
   ],
   "source": [
    "data  = pd.read_csv('../data/calls_data.csv')\n",
    "data.head()"
   ],
   "metadata": {
    "collapsed": false,
    "pycharm": {
     "name": "#%%\n"
    }
   }
  },
  {
   "cell_type": "code",
   "execution_count": 3,
   "outputs": [
    {
     "data": {
      "text/plain": "<matplotlib.axes._subplots.AxesSubplot at 0x7fd1a383f908>"
     },
     "execution_count": 3,
     "metadata": {},
     "output_type": "execute_result"
    },
    {
     "data": {
      "text/plain": "<Figure size 432x288 with 1 Axes>",
      "image/png": "[encoded data removed]"
     },
     "metadata": {
      "needs_background": "light"
     },
     "output_type": "display_data"
    }
   ],
   "source": [
    "data['duration_minutes'].hist()"
   ],
   "metadata": {
    "collapsed": false,
    "pycharm": {
     "name": "#%%\n"
    }
   }
  },
  {
   "cell_type": "code",
   "execution_count": 4,
   "outputs": [],
   "source": [
    "data = data.loc[data['duration_minutes'] != 0]\n",
    "X = data.drop(['address', 'geometry', 'poly_side', 'duration_minutes'], axis=1)\n",
    "y = data['duration_minutes']"
   ],
   "metadata": {
    "collapsed": false,
    "pycharm": {
     "name": "#%%\n"
    }
   }
  },
  {
   "cell_type": "code",
   "execution_count": 5,
   "outputs": [
    {
     "data": {
      "text/plain": "((array([-3.5025565 , -3.25887541, -3.1241227 , ...,  3.1241227 ,\n          3.25887541,  3.5025565 ]),\n  array([5.08305958e-04, 9.15010572e-04, 2.12894199e-03, ...,\n         1.72166666e+01, 1.90000000e+01, 2.45833330e+01])),\n (2.5386054994218363, 3.6894608374072875, 0.9694042326531059))"
     },
     "execution_count": 5,
     "metadata": {},
     "output_type": "execute_result"
    },
    {
     "data": {
      "text/plain": "<Figure size 432x288 with 1 Axes>",
      "image/png": "[encoded data removed]"
     },
     "metadata": {
      "needs_background": "light"
     },
     "output_type": "display_data"
    }
   ],
   "source": [
    "f, ax = plt.subplots()\n",
    "probplot(y, plot=ax)"
   ],
   "metadata": {
    "collapsed": false,
    "pycharm": {
     "name": "#%%\n"
    }
   }
  },
  {
   "cell_type": "code",
   "execution_count": 6,
   "outputs": [
    {
     "data": {
      "text/plain": "<matplotlib.axes._subplots.AxesSubplot at 0x7fd19edb7dd8>"
     },
     "execution_count": 6,
     "metadata": {},
     "output_type": "execute_result"
    },
    {
     "data": {
      "text/plain": "<Figure size 864x720 with 2 Axes>",
      "image/png": "[encoded data removed]"
     },
     "metadata": {
      "needs_background": "light"
     },
     "output_type": "display_data"
    }
   ],
   "source": [
    "plt, ax = plt.subplots(figsize=(12, 10))\n",
    "sns.heatmap(data.drop(['address', 'geometry', 'poly_side'], axis=1).corr(), ax=ax)"
   ],
   "metadata": {
    "collapsed": false,
    "pycharm": {
     "name": "#%%\n"
    }
   }
  },
  {
   "cell_type": "code",
   "execution_count": 13,
   "outputs": [],
   "source": [
    "X_train, X_valid, y_train, y_valid = train_test_split(X, y, test_size=0.3, random_state=42)"
   ],
   "metadata": {
    "collapsed": false,
    "pycharm": {
     "name": "#%%\n"
    }
   }
  },
  {
   "cell_type": "code",
   "execution_count": 17,
   "outputs": [],
   "source": [
    "X_train = data.drop(['address', 'geometry', 'poly_side', 'duration_minutes'], axis=1)\n",
    "X_train = X_train.loc[data['poly_side'].isin(['poly1', 'poly2'])]\n",
    "y_train = np.log1p(data['duration_minutes'][data['poly_side'].isin(['poly1', 'poly2'])])"
   ],
   "metadata": {
    "collapsed": false,
    "pycharm": {
     "name": "#%%\n"
    }
   }
  },
  {
   "cell_type": "code",
   "execution_count": 18,
   "outputs": [],
   "source": [
    "X_valid = data.drop(['address', 'geometry', 'poly_side', 'duration_minutes'], axis=1)\n",
    "X_valid = X_valid.loc[data['poly_side'].isin(['poly0', 'poly3'])]\n",
    "y_valid = np.log1p(data['duration_minutes'][data['poly_side'].isin(['poly0', 'poly3'])])"
   ],
   "metadata": {
    "collapsed": false,
    "pycharm": {
     "name": "#%%\n"
    }
   }
  },
  {
   "cell_type": "code",
   "execution_count": 19,
   "outputs": [],
   "source": [
    "scaler = StandardScaler()"
   ],
   "metadata": {
    "collapsed": false,
    "pycharm": {
     "name": "#%%\n"
    }
   }
  },
  {
   "cell_type": "code",
   "execution_count": 20,
   "outputs": [],
   "source": [
    "X_train_scale = scaler.fit_transform(X_train)\n",
    "X_valid_scale = scaler.transform(X_valid)"
   ],
   "metadata": {
    "collapsed": false,
    "pycharm": {
     "name": "#%%\n"
    }
   }
  },
  {
   "cell_type": "code",
   "execution_count": 21,
   "outputs": [],
   "source": [
    "def train_model(model, X_train, y_train, X_valid, y_valid, feature_names):\n",
    "    model.fit(X_train, y_train)\n",
    "    y_pred = model.predict(X_valid)\n",
    "    print(f'RMSE: {np.sqrt(mean_squared_error((y_valid), (y_pred)))}')\n",
    "    print(pd.DataFrame(model.coef_, index=feature_names,\n",
    "                       columns=['weight']).sort_values(by='weight', ascending=False))\n"
   ],
   "metadata": {
    "collapsed": false,
    "pycharm": {
     "name": "#%%\n"
    }
   }
  },
  {
   "cell_type": "code",
   "execution_count": 22,
   "outputs": [
    {
     "name": "stdout",
     "output_type": "stream",
     "text": [
      "RMSE: 0.5539479445508376\n",
      "                               weight\n",
      "feat_2                   3.300919e-01\n",
      "bus_stop                 1.274065e-01\n",
      "shelter                  2.062220e-02\n",
      "atm                      1.910487e-02\n",
      "office                   3.909370e-03\n",
      "traffic_signals          0.000000e+00\n",
      "public_service          -1.387779e-17\n",
      "waste_basket            -6.334953e-03\n",
      "bus_station             -9.922410e-03\n",
      "feat_1                  -1.398096e-02\n",
      "station                 -2.023344e-02\n",
      "cafe                    -2.659738e-02\n",
      "device_charging_station -2.726415e-02\n",
      "restaurant              -3.410706e-02\n",
      "bank                    -4.863289e-02\n"
     ]
    }
   ],
   "source": [
    "linreg = LinearRegression()\n",
    "train_model(linreg, X_train_scale, y_train, X_valid_scale, y_valid, X.columns)"
   ],
   "metadata": {
    "collapsed": false,
    "pycharm": {
     "name": "#%%\n"
    }
   }
  },
  {
   "cell_type": "code",
   "execution_count": 23,
   "outputs": [],
   "source": [
    "lasso_model = Lasso(random_state=16, alpha=0.01)"
   ],
   "metadata": {
    "collapsed": false,
    "pycharm": {
     "name": "#%%\n"
    }
   }
  },
  {
   "cell_type": "code",
   "execution_count": 24,
   "outputs": [
    {
     "name": "stdout",
     "output_type": "stream",
     "text": [
      "RMSE: 0.5535936097863409\n",
      "                           weight\n",
      "feat_2                   0.311594\n",
      "bus_stop                 0.114649\n",
      "shelter                  0.010570\n",
      "atm                      0.000000\n",
      "bus_station             -0.000000\n",
      "office                   0.000000\n",
      "public_service           0.000000\n",
      "traffic_signals          0.000000\n",
      "waste_basket            -0.000000\n",
      "feat_1                  -0.001847\n",
      "station                 -0.014036\n",
      "device_charging_station -0.017374\n",
      "cafe                    -0.017975\n",
      "bank                    -0.027483\n",
      "restaurant              -0.031184\n"
     ]
    }
   ],
   "source": [
    "train_model(lasso_model, X_train_scale, y_train, X_valid_scale, y_valid, X.columns)"
   ],
   "metadata": {
    "collapsed": false,
    "pycharm": {
     "name": "#%%\n"
    }
   }
  },
  {
   "cell_type": "code",
   "execution_count": 25,
   "outputs": [],
   "source": [
    "lasso_cv_model = LassoCV(random_state=16)"
   ],
   "metadata": {
    "collapsed": false,
    "pycharm": {
     "name": "#%%\n"
    }
   }
  },
  {
   "cell_type": "code",
   "execution_count": 26,
   "outputs": [
    {
     "name": "stdout",
     "output_type": "stream",
     "text": [
      "RMSE: 0.5535334265866467\n",
      "                           weight\n",
      "feat_2                   0.321748\n",
      "bus_stop                 0.121683\n",
      "shelter                  0.015785\n",
      "atm                      0.003433\n",
      "office                   0.000208\n",
      "public_service           0.000000\n",
      "traffic_signals          0.000000\n",
      "waste_basket            -0.001508\n",
      "bus_station             -0.004892\n",
      "feat_1                  -0.007662\n",
      "station                 -0.016856\n",
      "cafe                    -0.020904\n",
      "device_charging_station -0.022527\n",
      "restaurant              -0.033380\n",
      "bank                    -0.035483\n"
     ]
    },
    {
     "name": "stderr",
     "output_type": "stream",
     "text": [
      "/Users/kosmosivanov/anaconda3/lib/python3.7/site-packages/sklearn/model_selection/_split.py:2053: FutureWarning: You should specify a value for 'cv' instead of relying on the default value. The default value will change from 3 to 5 in version 0.22.\n",
      "  warnings.warn(CV_WARNING, FutureWarning)\n"
     ]
    }
   ],
   "source": [
    "train_model(lasso_cv_model, X_train_scale, y_train, X_valid_scale, y_valid, X.columns)"
   ],
   "metadata": {
    "collapsed": false,
    "pycharm": {
     "name": "#%%\n"
    }
   }
  },
  {
   "cell_type": "code",
   "execution_count": 27,
   "outputs": [],
   "source": [
    "ridge_model = Ridge(random_state=16)"
   ],
   "metadata": {
    "collapsed": false,
    "pycharm": {
     "name": "#%%\n"
    }
   }
  },
  {
   "cell_type": "code",
   "execution_count": 28,
   "outputs": [
    {
     "name": "stdout",
     "output_type": "stream",
     "text": [
      "RMSE: 0.5539574773061426\n",
      "                           weight\n",
      "feat_2                   0.329760\n",
      "bus_stop                 0.127412\n",
      "shelter                  0.020610\n",
      "atm                      0.019084\n",
      "office                   0.003909\n",
      "public_service           0.000000\n",
      "traffic_signals          0.000000\n",
      "waste_basket            -0.006336\n",
      "bus_station             -0.009922\n",
      "feat_1                  -0.013943\n",
      "station                 -0.020221\n",
      "cafe                    -0.026531\n",
      "device_charging_station -0.027227\n",
      "restaurant              -0.034100\n",
      "bank                    -0.048494\n"
     ]
    }
   ],
   "source": [
    "train_model(ridge_model, X_train_scale, y_train, X_valid_scale, y_valid, X.columns)\n"
   ],
   "metadata": {
    "collapsed": false,
    "pycharm": {
     "name": "#%%\n"
    }
   }
  },
  {
   "cell_type": "code",
   "execution_count": 29,
   "outputs": [],
   "source": [
    "ridge_cv_model = RidgeCV()"
   ],
   "metadata": {
    "collapsed": false,
    "pycharm": {
     "name": "#%%\n"
    }
   }
  },
  {
   "cell_type": "code",
   "execution_count": 30,
   "outputs": [
    {
     "name": "stdout",
     "output_type": "stream",
     "text": [
      "RMSE: 0.5540470621127068\n",
      "                           weight\n",
      "feat_2                   0.326808\n",
      "bus_stop                 0.127451\n",
      "shelter                  0.020504\n",
      "atm                      0.018905\n",
      "office                   0.003905\n",
      "public_service           0.000000\n",
      "traffic_signals          0.000000\n",
      "waste_basket            -0.006344\n",
      "bus_station             -0.009915\n",
      "feat_1                  -0.013605\n",
      "station                 -0.020106\n",
      "cafe                    -0.025949\n",
      "device_charging_station -0.026894\n",
      "restaurant              -0.034020\n",
      "bank                    -0.047267\n"
     ]
    }
   ],
   "source": [
    "train_model(ridge_cv_model, X_train_scale, y_train, X_valid_scale, y_valid, X.columns)\n"
   ],
   "metadata": {
    "collapsed": false,
    "pycharm": {
     "name": "#%%\n"
    }
   }
  },
  {
   "cell_type": "code",
   "execution_count": null,
   "outputs": [],
   "source": [
    "\n"
   ],
   "metadata": {
    "collapsed": false,
    "pycharm": {
     "name": "#%%\n"
    }
   }
  }
 ],
 "metadata": {
  "kernelspec": {
   "display_name": "Python 3",
   "language": "python",
   "name": "python3"
  },
  "language_info": {
   "codemirror_mode": {
    "name": "ipython",
    "version": 2
   },
   "file_extension": ".py",
   "mimetype": "text/x-python",
   "name": "python",
   "nbconvert_exporter": "python",
   "pygments_lexer": "ipython2",
   "version": "2.7.6"
  }
 },
 "nbformat": 4,
 "nbformat_minor": 0
}