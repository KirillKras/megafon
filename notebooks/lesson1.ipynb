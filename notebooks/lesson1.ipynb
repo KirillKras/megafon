{
 "cells": [
  {
   "cell_type": "code",
   "execution_count": 2,
   "metadata": {
    "collapsed": true
   },
   "outputs": [],
   "source": [
    "import pandas as pd\n",
    "import numpy as np\n",
    "\n",
    "from scipy.stats import boxcox, probplot\n",
    "\n",
    "import matplotlib.pyplot as plt"
   ]
  },
  {
   "cell_type": "code",
   "execution_count": 5,
   "outputs": [
    {
     "data": {
      "text/plain": "           address  duration_minutes  feat_1  feat_2  \\\n0  8811aa602dfffff          5.092667     0.0    25.0   \n1  8811aa45d9fffff          6.037037     0.0    63.0   \n2  881181a235fffff          4.722727     0.0    11.0   \n3  8811aa722bfffff          5.868982     0.0    36.0   \n4  8811aa714dfffff          2.937719     0.0    19.0   \n\n                                            geometry poly_side  atm  bank  \\\n0  POLYGON ((37.75103240708841 55.80603592669851,...     poly3  1.0   0.0   \n1  POLYGON ((37.40263832553934 55.71842073952227,...     poly0  5.0   3.0   \n2  POLYGON ((37.74271427608124 55.43691297888912,...     poly1  0.0   0.0   \n3  POLYGON ((37.42241082476207 55.85767681439805,...     poly2  2.0   2.0   \n4  POLYGON ((37.45469517717559 55.7843306893976, ...     poly2  1.0   0.0   \n\n   bus_station  bus_stop  cafe  device_charging_station  office  \\\n0          0.0       8.0   1.0                      0.0     0.0   \n1          0.0       5.0   2.0                      0.0     0.0   \n2          0.0       1.0   1.0                      0.0     0.0   \n3          0.0      12.0   2.0                      0.0     0.0   \n4          0.0       9.0   1.0                      0.0     0.0   \n\n   public_service  restaurant  shelter  station  traffic_signals  waste_basket  \n0             0.0         1.0      0.0      0.0              0.0           0.0  \n1             0.0         2.0      0.0      0.0              0.0           0.0  \n2             0.0         0.0      0.0      0.0              0.0           0.0  \n3             0.0         0.0      0.0      0.0              0.0           0.0  \n4             0.0         2.0      0.0      0.0              0.0           0.0  ",
      "text/html": "<div>\n<style scoped>\n    .dataframe tbody tr th:only-of-type {\n        vertical-align: middle;\n    }\n\n    .dataframe tbody tr th {\n        vertical-align: top;\n    }\n\n    .dataframe thead th {\n        text-align: right;\n    }\n</style>\n<table border=\"1\" class=\"dataframe\">\n  <thead>\n    <tr style=\"text-align: right;\">\n      <th></th>\n      <th>address</th>\n      <th>duration_minutes</th>\n      <th>feat_1</th>\n      <th>feat_2</th>\n      <th>geometry</th>\n      <th>poly_side</th>\n      <th>atm</th>\n      <th>bank</th>\n      <th>bus_station</th>\n      <th>bus_stop</th>\n      <th>cafe</th>\n      <th>device_charging_station</th>\n      <th>office</th>\n      <th>public_service</th>\n      <th>restaurant</th>\n      <th>shelter</th>\n      <th>station</th>\n      <th>traffic_signals</th>\n      <th>waste_basket</th>\n    </tr>\n  </thead>\n  <tbody>\n    <tr>\n      <th>0</th>\n      <td>8811aa602dfffff</td>\n      <td>5.092667</td>\n      <td>0.0</td>\n      <td>25.0</td>\n      <td>POLYGON ((37.75103240708841 55.80603592669851,...</td>\n      <td>poly3</td>\n      <td>1.0</td>\n      <td>0.0</td>\n      <td>0.0</td>\n      <td>8.0</td>\n      <td>1.0</td>\n      <td>0.0</td>\n      <td>0.0</td>\n      <td>0.0</td>\n      <td>1.0</td>\n      <td>0.0</td>\n      <td>0.0</td>\n      <td>0.0</td>\n      <td>0.0</td>\n    </tr>\n    <tr>\n      <th>1</th>\n      <td>8811aa45d9fffff</td>\n      <td>6.037037</td>\n      <td>0.0</td>\n      <td>63.0</td>\n      <td>POLYGON ((37.40263832553934 55.71842073952227,...</td>\n      <td>poly0</td>\n      <td>5.0</td>\n      <td>3.0</td>\n      <td>0.0</td>\n      <td>5.0</td>\n      <td>2.0</td>\n      <td>0.0</td>\n      <td>0.0</td>\n      <td>0.0</td>\n      <td>2.0</td>\n      <td>0.0</td>\n      <td>0.0</td>\n      <td>0.0</td>\n      <td>0.0</td>\n    </tr>\n    <tr>\n      <th>2</th>\n      <td>881181a235fffff</td>\n      <td>4.722727</td>\n      <td>0.0</td>\n      <td>11.0</td>\n      <td>POLYGON ((37.74271427608124 55.43691297888912,...</td>\n      <td>poly1</td>\n      <td>0.0</td>\n      <td>0.0</td>\n      <td>0.0</td>\n      <td>1.0</td>\n      <td>1.0</td>\n      <td>0.0</td>\n      <td>0.0</td>\n      <td>0.0</td>\n      <td>0.0</td>\n      <td>0.0</td>\n      <td>0.0</td>\n      <td>0.0</td>\n      <td>0.0</td>\n    </tr>\n    <tr>\n      <th>3</th>\n      <td>8811aa722bfffff</td>\n      <td>5.868982</td>\n      <td>0.0</td>\n      <td>36.0</td>\n      <td>POLYGON ((37.42241082476207 55.85767681439805,...</td>\n      <td>poly2</td>\n      <td>2.0</td>\n      <td>2.0</td>\n      <td>0.0</td>\n      <td>12.0</td>\n      <td>2.0</td>\n      <td>0.0</td>\n      <td>0.0</td>\n      <td>0.0</td>\n      <td>0.0</td>\n      <td>0.0</td>\n      <td>0.0</td>\n      <td>0.0</td>\n      <td>0.0</td>\n    </tr>\n    <tr>\n      <th>4</th>\n      <td>8811aa714dfffff</td>\n      <td>2.937719</td>\n      <td>0.0</td>\n      <td>19.0</td>\n      <td>POLYGON ((37.45469517717559 55.7843306893976, ...</td>\n      <td>poly2</td>\n      <td>1.0</td>\n      <td>0.0</td>\n      <td>0.0</td>\n      <td>9.0</td>\n      <td>1.0</td>\n      <td>0.0</td>\n      <td>0.0</td>\n      <td>0.0</td>\n      <td>2.0</td>\n      <td>0.0</td>\n      <td>0.0</td>\n      <td>0.0</td>\n      <td>0.0</td>\n    </tr>\n  </tbody>\n</table>\n</div>"
     },
     "execution_count": 5,
     "metadata": {},
     "output_type": "execute_result"
    }
   ],
   "source": [
    "data  = pd.read_csv('../data/calls_data.csv')\n",
    "data.head()"
   ],
   "metadata": {
    "collapsed": false,
    "pycharm": {
     "name": "#%%\n"
    }
   }
  },
  {
   "cell_type": "code",
   "execution_count": 6,
   "outputs": [
    {
     "data": {
      "text/plain": "<AxesSubplot:>"
     },
     "execution_count": 6,
     "metadata": {},
     "output_type": "execute_result"
    },
    {
     "data": {
      "text/plain": "<Figure size 432x288 with 1 Axes>",
      "image/png": "[encoded data removed]"
     },
     "metadata": {
      "needs_background": "light"
     },
     "output_type": "display_data"
    }
   ],
   "source": [
    "data['duration_minutes'].hist()"
   ],
   "metadata": {
    "collapsed": false,
    "pycharm": {
     "name": "#%%\n"
    }
   }
  },
  {
   "cell_type": "code",
   "execution_count": null,
   "outputs": [],
   "source": [
    "f, ax = plt.subplots()\n",
    "plt.pro\n"
   ],
   "metadata": {
    "collapsed": false,
    "pycharm": {
     "name": "#%%\n"
    }
   }
  }
 ],
 "metadata": {
  "kernelspec": {
   "display_name": "Python 3",
   "language": "python",
   "name": "python3"
  },
  "language_info": {
   "codemirror_mode": {
    "name": "ipython",
    "version": 2
   },
   "file_extension": ".py",
   "mimetype": "text/x-python",
   "name": "python",
   "nbconvert_exporter": "python",
   "pygments_lexer": "ipython2",
   "version": "2.7.6"
  }
 },
 "nbformat": 4,
 "nbformat_minor": 0
}